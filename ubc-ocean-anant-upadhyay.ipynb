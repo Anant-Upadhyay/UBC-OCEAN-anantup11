{
 "cells": [
  {
   "cell_type": "code",
   "execution_count": 1,
   "id": "b466b5b7",
   "metadata": {
    "execution": {
     "iopub.execute_input": "2024-01-17T12:53:16.828090Z",
     "iopub.status.busy": "2024-01-17T12:53:16.827758Z",
     "iopub.status.idle": "2024-01-17T12:53:25.016881Z",
     "shell.execute_reply": "2024-01-17T12:53:25.016041Z"
    },
    "papermill": {
     "duration": 8.198306,
     "end_time": "2024-01-17T12:53:25.019291",
     "exception": false,
     "start_time": "2024-01-17T12:53:16.820985",
     "status": "completed"
    },
    "tags": []
   },
   "outputs": [
    {
     "name": "stderr",
     "output_type": "stream",
     "text": [
      "/opt/conda/lib/python3.10/site-packages/scipy/__init__.py:146: UserWarning: A NumPy version >=1.16.5 and <1.23.0 is required for this version of SciPy (detected version 1.24.3\n",
      "  warnings.warn(f\"A NumPy version >={np_minversion} and <{np_maxversion}\"\n"
     ]
    }
   ],
   "source": [
    "import numpy as np\n",
    "import pandas as pd\n",
    "import scipy\n",
    "import os\n",
    "import torch\n",
    "import torch.nn as nn\n",
    "from torch.utils.data import Dataset,DataLoader,random_split,sampler\n",
    "import albumentations as A\n",
    "from albumentations.pytorch import ToTensorV2\n",
    "import cv2\n",
    "from PIL import Image\n",
    "from tqdm.auto import tqdm\n",
    "import timm\n",
    "import sklearn\n",
    "from sklearn.metrics import balanced_accuracy_score\n",
    "import torchvision\n",
    "import warnings\n",
    "warnings.filterwarnings('ignore')"
   ]
  },
  {
   "cell_type": "code",
   "execution_count": 2,
   "id": "14fefd9d",
   "metadata": {
    "execution": {
     "iopub.execute_input": "2024-01-17T12:53:25.030565Z",
     "iopub.status.busy": "2024-01-17T12:53:25.030268Z",
     "iopub.status.idle": "2024-01-17T12:53:25.092918Z",
     "shell.execute_reply": "2024-01-17T12:53:25.091965Z"
    },
    "papermill": {
     "duration": 0.070631,
     "end_time": "2024-01-17T12:53:25.095176",
     "exception": false,
     "start_time": "2024-01-17T12:53:25.024545",
     "status": "completed"
    },
    "tags": []
   },
   "outputs": [
    {
     "name": "stdout",
     "output_type": "stream",
     "text": [
      "cuda\n"
     ]
    }
   ],
   "source": [
    "device = \"cuda\" if torch.cuda.is_available() else 'cpu'\n",
    "print(device)"
   ]
  },
  {
   "cell_type": "code",
   "execution_count": 3,
   "id": "7fc2f25b",
   "metadata": {
    "execution": {
     "iopub.execute_input": "2024-01-17T12:53:25.106447Z",
     "iopub.status.busy": "2024-01-17T12:53:25.106114Z",
     "iopub.status.idle": "2024-01-17T12:53:25.114929Z",
     "shell.execute_reply": "2024-01-17T12:53:25.114101Z"
    },
    "papermill": {
     "duration": 0.016884,
     "end_time": "2024-01-17T12:53:25.117070",
     "exception": false,
     "start_time": "2024-01-17T12:53:25.100186",
     "status": "completed"
    },
    "tags": []
   },
   "outputs": [],
   "source": [
    "np.random.seed(42)\n",
    "torch.manual_seed(42)\n",
    "torch.cuda.manual_seed(42)"
   ]
  },
  {
   "cell_type": "code",
   "execution_count": 4,
   "id": "39275ec1",
   "metadata": {
    "execution": {
     "iopub.execute_input": "2024-01-17T12:53:25.128102Z",
     "iopub.status.busy": "2024-01-17T12:53:25.127792Z",
     "iopub.status.idle": "2024-01-17T12:53:25.145279Z",
     "shell.execute_reply": "2024-01-17T12:53:25.144400Z"
    },
    "papermill": {
     "duration": 0.025193,
     "end_time": "2024-01-17T12:53:25.147217",
     "exception": false,
     "start_time": "2024-01-17T12:53:25.122024",
     "status": "completed"
    },
    "tags": []
   },
   "outputs": [],
   "source": [
    "test_csv = pd.read_csv('/kaggle/input/UBC-OCEAN/test.csv')"
   ]
  },
  {
   "cell_type": "code",
   "execution_count": 5,
   "id": "0254874b",
   "metadata": {
    "execution": {
     "iopub.execute_input": "2024-01-17T12:53:25.158588Z",
     "iopub.status.busy": "2024-01-17T12:53:25.158298Z",
     "iopub.status.idle": "2024-01-17T12:53:25.167071Z",
     "shell.execute_reply": "2024-01-17T12:53:25.166318Z"
    },
    "papermill": {
     "duration": 0.01699,
     "end_time": "2024-01-17T12:53:25.169105",
     "exception": false,
     "start_time": "2024-01-17T12:53:25.152115",
     "status": "completed"
    },
    "tags": []
   },
   "outputs": [],
   "source": [
    "transform_tma = A.Compose(\n",
    "[\n",
    "    A.HorizontalFlip(p=0.5),\n",
    "    A.RandomRotate90(p=0.5),\n",
    "    A.ColorJitter(),\n",
    "    A.Resize(4000,4000),\n",
    "    A.Normalize(mean=(0.485,0.456,0.406),std=(0.229,0.224,0.225)),\n",
    "    ToTensorV2()\n",
    "]\n",
    ")\n",
    "transform_ntma = A.Compose(\n",
    "[\n",
    "    A.HorizontalFlip(p=0.5),\n",
    "    A.RandomRotate90(p=0.5),\n",
    "    A.ColorJitter(),\n",
    "    A.Resize(3000,3000),\n",
    "    A.Normalize(mean=(0.485,0.456,0.406),std=(0.229,0.224,0.225)),\n",
    "    A.PadIfNeeded(min_height=4000,min_width=4000,border_mode=cv2.BORDER_CONSTANT,value=(0,0,0)),\n",
    "    ToTensorV2()\n",
    "]\n",
    ")"
   ]
  },
  {
   "cell_type": "code",
   "execution_count": 6,
   "id": "576facd0",
   "metadata": {
    "execution": {
     "iopub.execute_input": "2024-01-17T12:53:25.180657Z",
     "iopub.status.busy": "2024-01-17T12:53:25.180322Z",
     "iopub.status.idle": "2024-01-17T12:53:25.939246Z",
     "shell.execute_reply": "2024-01-17T12:53:25.938446Z"
    },
    "papermill": {
     "duration": 0.767409,
     "end_time": "2024-01-17T12:53:25.941637",
     "exception": false,
     "start_time": "2024-01-17T12:53:25.174228",
     "status": "completed"
    },
    "tags": []
   },
   "outputs": [],
   "source": [
    "base_model = timm.create_model('resnet101',pretrained=False)\n",
    "last_layer = nn.Sequential(\n",
    "    nn.Linear(in_features=base_model.num_features,out_features = 1000),\n",
    "    nn.BatchNorm1d(1000),\n",
    "    nn.ReLU(),\n",
    "    nn.Dropout(),\n",
    "    nn.Linear(1000,6)\n",
    ")\n",
    "base_model.fc = last_layer\n",
    "#print(base_model)"
   ]
  },
  {
   "cell_type": "code",
   "execution_count": 7,
   "id": "53503985",
   "metadata": {
    "execution": {
     "iopub.execute_input": "2024-01-17T12:53:25.952860Z",
     "iopub.status.busy": "2024-01-17T12:53:25.952556Z",
     "iopub.status.idle": "2024-01-17T12:53:25.966298Z",
     "shell.execute_reply": "2024-01-17T12:53:25.965442Z"
    },
    "papermill": {
     "duration": 0.022204,
     "end_time": "2024-01-17T12:53:25.968897",
     "exception": false,
     "start_time": "2024-01-17T12:53:25.946693",
     "status": "completed"
    },
    "tags": []
   },
   "outputs": [],
   "source": [
    "tma_layer = nn.Sequential(\n",
    "    nn.Conv2d(3,32,(7,7),(5,5)),\n",
    "    nn.BatchNorm2d(32),\n",
    "    nn.ReLU(),\n",
    "    nn.Conv2d(32,128,(6,6),(4,4),50),\n",
    "    nn.BatchNorm2d(128),\n",
    "    nn.ReLU(),\n",
    "    nn.Conv2d(128,3,(1,1)),\n",
    "    nn.BatchNorm2d(3),\n",
    "    nn.ReLU()\n",
    ")\n",
    "ntma_layer = nn.Sequential(\n",
    "    torchvision.transforms.CenterCrop(3000),\n",
    "    nn.Conv2d(3,32,(7,7),(5,5)),\n",
    "    nn.BatchNorm2d(32),\n",
    "    nn.ReLU(),\n",
    "    nn.Conv2d(32,128,(5,5),(3,3),38),\n",
    "    nn.BatchNorm2d(128),\n",
    "    nn.ReLU(),\n",
    "    nn.Conv2d(128,3,(1,1)),\n",
    "    nn.BatchNorm2d(3),\n",
    "    nn.ReLU()\n",
    ")"
   ]
  },
  {
   "cell_type": "code",
   "execution_count": 8,
   "id": "0a1c5895",
   "metadata": {
    "execution": {
     "iopub.execute_input": "2024-01-17T12:53:25.980541Z",
     "iopub.status.busy": "2024-01-17T12:53:25.980289Z",
     "iopub.status.idle": "2024-01-17T12:53:25.987163Z",
     "shell.execute_reply": "2024-01-17T12:53:25.986342Z"
    },
    "papermill": {
     "duration": 0.014314,
     "end_time": "2024-01-17T12:53:25.988909",
     "exception": false,
     "start_time": "2024-01-17T12:53:25.974595",
     "status": "completed"
    },
    "tags": []
   },
   "outputs": [],
   "source": [
    "class Model(nn.Module):\n",
    "    def __init__(self):\n",
    "        super(Model,self).__init__()\n",
    "        self.tma = tma_layer\n",
    "        self.ntma = ntma_layer\n",
    "        self.base = base_model\n",
    "    \n",
    "    def forward(self,x,img_type):\n",
    "        tma_indices = img_type==1\n",
    "        ntma_indices = img_type==0\n",
    "        tma_inputs = x[tma_indices]\n",
    "        ntma_inputs = x[ntma_indices]\n",
    "        tma_outputs = self.tma(tma_inputs) if tma_inputs.size(0)>0 else torch.empty(0).to(device)\n",
    "        ntma_outputs = self.ntma(ntma_inputs) if ntma_inputs.size(0)>0 else torch.empty(0).to(device)\n",
    "        emp = torch.cat((tma_outputs,ntma_outputs))\n",
    "        out = self.base(emp)\n",
    "        return out"
   ]
  },
  {
   "cell_type": "code",
   "execution_count": 9,
   "id": "bf0a5bd9",
   "metadata": {
    "execution": {
     "iopub.execute_input": "2024-01-17T12:53:25.999616Z",
     "iopub.status.busy": "2024-01-17T12:53:25.999368Z",
     "iopub.status.idle": "2024-01-17T12:53:28.131090Z",
     "shell.execute_reply": "2024-01-17T12:53:28.130058Z"
    },
    "papermill": {
     "duration": 2.139524,
     "end_time": "2024-01-17T12:53:28.133106",
     "exception": false,
     "start_time": "2024-01-17T12:53:25.993582",
     "status": "completed"
    },
    "tags": []
   },
   "outputs": [
    {
     "data": {
      "text/plain": [
       "<All keys matched successfully>"
      ]
     },
     "execution_count": 9,
     "metadata": {},
     "output_type": "execute_result"
    }
   ],
   "source": [
    "my_model = Model()\n",
    "my_model.load_state_dict(torch.load(\"/kaggle/input/anant11-1/model(16).pt\"))"
   ]
  },
  {
   "cell_type": "code",
   "execution_count": 10,
   "id": "a234bd78",
   "metadata": {
    "execution": {
     "iopub.execute_input": "2024-01-17T12:53:28.144976Z",
     "iopub.status.busy": "2024-01-17T12:53:28.144691Z",
     "iopub.status.idle": "2024-01-17T12:53:28.151409Z",
     "shell.execute_reply": "2024-01-17T12:53:28.150495Z"
    },
    "papermill": {
     "duration": 0.014906,
     "end_time": "2024-01-17T12:53:28.153346",
     "exception": false,
     "start_time": "2024-01-17T12:53:28.138440",
     "status": "completed"
    },
    "tags": []
   },
   "outputs": [],
   "source": [
    "def test_func(test_loader,model,device):\n",
    "    model.to(device).eval()\n",
    "    predictions = np.zeros((0,6))\n",
    "    for i,data in enumerate(tqdm(test_loader,total = len(test_loader))):\n",
    "        images = data['image'].to(device)\n",
    "        img_type = torch.tensor(data['img_type']).to(device)\n",
    "        with torch.no_grad():\n",
    "            output = model(images,img_type)\n",
    "            predictions = np.concatenate((predictions,output.softmax(1).to('cpu').numpy()),axis=0)\n",
    "    predictions = np.argmax(predictions,axis=1)\n",
    "    return predictions    "
   ]
  },
  {
   "cell_type": "code",
   "execution_count": 11,
   "id": "88cb4368",
   "metadata": {
    "execution": {
     "iopub.execute_input": "2024-01-17T12:53:28.164631Z",
     "iopub.status.busy": "2024-01-17T12:53:28.164343Z",
     "iopub.status.idle": "2024-01-17T12:53:28.172827Z",
     "shell.execute_reply": "2024-01-17T12:53:28.171975Z"
    },
    "papermill": {
     "duration": 0.016358,
     "end_time": "2024-01-17T12:53:28.174933",
     "exception": false,
     "start_time": "2024-01-17T12:53:28.158575",
     "status": "completed"
    },
    "tags": []
   },
   "outputs": [],
   "source": [
    "class testDataset(Dataset):\n",
    "    def __init__(self,transform=(None,None)):\n",
    "        self.dir1 = \"/kaggle/input/UBC-OCEAN/test_images/\"\n",
    "        self.dir2 = \"/kaggle/input/UBC-OCEAN/test_thumbnails/\"\n",
    "        self.transform_tma = transform[0]\n",
    "        self.transform_ntma = transform[1]\n",
    "    def __len__(self):\n",
    "        return len(os.listdir(self.dir1))\n",
    "    def __getitem__(self,idx):\n",
    "        img_id = test_csv['image_id'][idx]\n",
    "        h = test_csv['image_height'][idx]\n",
    "        w = test_csv['image_width'][idx]\n",
    "        if((h<10000)and(w<10000)):\n",
    "            img = cv2.imread(self.dir1+str(img_id)+'.png')\n",
    "            img = cv2.cvtColor(img,cv2.COLOR_BGR2RGB)\n",
    "            img = self.transform_tma(image=img)\n",
    "            img_type = 1\n",
    "        else:\n",
    "            img = cv2.imread(self.dir2+str(img_id)+'_thumbnail.png')\n",
    "            img = cv2.cvtColor(img,cv2.COLOR_BGR2RGB)\n",
    "            img = self.transform_ntma(image=img)\n",
    "            img_type = 0\n",
    "        return{\n",
    "            'image':img['image'],\n",
    "            'img_type':img_type,\n",
    "        }"
   ]
  },
  {
   "cell_type": "code",
   "execution_count": 12,
   "id": "4196102d",
   "metadata": {
    "execution": {
     "iopub.execute_input": "2024-01-17T12:53:28.185694Z",
     "iopub.status.busy": "2024-01-17T12:53:28.185415Z",
     "iopub.status.idle": "2024-01-17T12:53:29.692539Z",
     "shell.execute_reply": "2024-01-17T12:53:29.691497Z"
    },
    "papermill": {
     "duration": 1.515497,
     "end_time": "2024-01-17T12:53:29.695309",
     "exception": false,
     "start_time": "2024-01-17T12:53:28.179812",
     "status": "completed"
    },
    "tags": []
   },
   "outputs": [
    {
     "data": {
      "application/vnd.jupyter.widget-view+json": {
       "model_id": "ae7aac716357432f920f696784b02d2a",
       "version_major": 2,
       "version_minor": 0
      },
      "text/plain": [
       "  0%|          | 0/1 [00:00<?, ?it/s]"
      ]
     },
     "metadata": {},
     "output_type": "display_data"
    }
   ],
   "source": [
    "test_dataset = testDataset(transform=(transform_tma,transform_ntma))\n",
    "test_loader = DataLoader(test_dataset,batch_size=4,shuffle=False)\n",
    "pred = test_func(test_loader,my_model,device)"
   ]
  },
  {
   "cell_type": "code",
   "execution_count": 13,
   "id": "ff64e3e6",
   "metadata": {
    "execution": {
     "iopub.execute_input": "2024-01-17T12:53:29.708291Z",
     "iopub.status.busy": "2024-01-17T12:53:29.707911Z",
     "iopub.status.idle": "2024-01-17T12:53:29.712696Z",
     "shell.execute_reply": "2024-01-17T12:53:29.711847Z"
    },
    "papermill": {
     "duration": 0.014574,
     "end_time": "2024-01-17T12:53:29.715700",
     "exception": false,
     "start_time": "2024-01-17T12:53:29.701126",
     "status": "completed"
    },
    "tags": []
   },
   "outputs": [
    {
     "name": "stdout",
     "output_type": "stream",
     "text": [
      "[1]\n"
     ]
    }
   ],
   "source": [
    "print(pred)"
   ]
  },
  {
   "cell_type": "code",
   "execution_count": 14,
   "id": "52e1248a",
   "metadata": {
    "execution": {
     "iopub.execute_input": "2024-01-17T12:53:29.728335Z",
     "iopub.status.busy": "2024-01-17T12:53:29.727974Z",
     "iopub.status.idle": "2024-01-17T12:53:29.754740Z",
     "shell.execute_reply": "2024-01-17T12:53:29.753593Z"
    },
    "papermill": {
     "duration": 0.0358,
     "end_time": "2024-01-17T12:53:29.757047",
     "exception": false,
     "start_time": "2024-01-17T12:53:29.721247",
     "status": "completed"
    },
    "tags": []
   },
   "outputs": [
    {
     "data": {
      "text/html": [
       "<div>\n",
       "<style scoped>\n",
       "    .dataframe tbody tr th:only-of-type {\n",
       "        vertical-align: middle;\n",
       "    }\n",
       "\n",
       "    .dataframe tbody tr th {\n",
       "        vertical-align: top;\n",
       "    }\n",
       "\n",
       "    .dataframe thead th {\n",
       "        text-align: right;\n",
       "    }\n",
       "</style>\n",
       "<table border=\"1\" class=\"dataframe\">\n",
       "  <thead>\n",
       "    <tr style=\"text-align: right;\">\n",
       "      <th></th>\n",
       "      <th>image_id</th>\n",
       "      <th>label</th>\n",
       "    </tr>\n",
       "  </thead>\n",
       "  <tbody>\n",
       "    <tr>\n",
       "      <th>0</th>\n",
       "      <td>41</td>\n",
       "      <td>EC</td>\n",
       "    </tr>\n",
       "  </tbody>\n",
       "</table>\n",
       "</div>"
      ],
      "text/plain": [
       "   image_id label\n",
       "0        41    EC"
      ]
     },
     "execution_count": 14,
     "metadata": {},
     "output_type": "execute_result"
    }
   ],
   "source": [
    "sub = pd.read_csv(\"/kaggle/input/UBC-OCEAN/test.csv\")\n",
    "sub = sub.drop([\"image_width\",\"image_height\"],axis=1)\n",
    "sub[\"label\"] = pred\n",
    "sub['label'] = sub['label'].map({0:\"CC\",1:\"EC\",2:\"HGSC\",3:\"LGSC\",4:\"MC\",5:\"Other\"})\n",
    "sub"
   ]
  },
  {
   "cell_type": "code",
   "execution_count": 15,
   "id": "8d9a4837",
   "metadata": {
    "execution": {
     "iopub.execute_input": "2024-01-17T12:53:29.771393Z",
     "iopub.status.busy": "2024-01-17T12:53:29.771004Z",
     "iopub.status.idle": "2024-01-17T12:53:29.778783Z",
     "shell.execute_reply": "2024-01-17T12:53:29.777824Z"
    },
    "papermill": {
     "duration": 0.017528,
     "end_time": "2024-01-17T12:53:29.781002",
     "exception": false,
     "start_time": "2024-01-17T12:53:29.763474",
     "status": "completed"
    },
    "tags": []
   },
   "outputs": [],
   "source": [
    "sub.to_csv('submission.csv',index=False)"
   ]
  }
 ],
 "metadata": {
  "kaggle": {
   "accelerator": "gpu",
   "dataSources": [
    {
     "databundleVersionId": 6924515,
     "sourceId": 45867,
     "sourceType": "competition"
    },
    {
     "datasetId": 4197957,
     "sourceId": 7315912,
     "sourceType": "datasetVersion"
    }
   ],
   "dockerImageVersionId": 30587,
   "isGpuEnabled": true,
   "isInternetEnabled": false,
   "language": "python",
   "sourceType": "notebook"
  },
  "kernelspec": {
   "display_name": "Python 3",
   "language": "python",
   "name": "python3"
  },
  "language_info": {
   "codemirror_mode": {
    "name": "ipython",
    "version": 3
   },
   "file_extension": ".py",
   "mimetype": "text/x-python",
   "name": "python",
   "nbconvert_exporter": "python",
   "pygments_lexer": "ipython3",
   "version": "3.10.12"
  },
  "papermill": {
   "default_parameters": {},
   "duration": 18.541618,
   "end_time": "2024-01-17T12:53:31.976995",
   "environment_variables": {},
   "exception": null,
   "input_path": "__notebook__.ipynb",
   "output_path": "__notebook__.ipynb",
   "parameters": {},
   "start_time": "2024-01-17T12:53:13.435377",
   "version": "2.4.0"
  },
  "widgets": {
   "application/vnd.jupyter.widget-state+json": {
    "state": {
     "0683a4964cf74fdaba94da11cfadf7a5": {
      "model_module": "@jupyter-widgets/controls",
      "model_module_version": "1.5.0",
      "model_name": "DescriptionStyleModel",
      "state": {
       "_model_module": "@jupyter-widgets/controls",
       "_model_module_version": "1.5.0",
       "_model_name": "DescriptionStyleModel",
       "_view_count": null,
       "_view_module": "@jupyter-widgets/base",
       "_view_module_version": "1.2.0",
       "_view_name": "StyleView",
       "description_width": ""
      }
     },
     "2cc7296a2f444d50bc14fba8c57f8256": {
      "model_module": "@jupyter-widgets/base",
      "model_module_version": "1.2.0",
      "model_name": "LayoutModel",
      "state": {
       "_model_module": "@jupyter-widgets/base",
       "_model_module_version": "1.2.0",
       "_model_name": "LayoutModel",
       "_view_count": null,
       "_view_module": "@jupyter-widgets/base",
       "_view_module_version": "1.2.0",
       "_view_name": "LayoutView",
       "align_content": null,
       "align_items": null,
       "align_self": null,
       "border": null,
       "bottom": null,
       "display": null,
       "flex": null,
       "flex_flow": null,
       "grid_area": null,
       "grid_auto_columns": null,
       "grid_auto_flow": null,
       "grid_auto_rows": null,
       "grid_column": null,
       "grid_gap": null,
       "grid_row": null,
       "grid_template_areas": null,
       "grid_template_columns": null,
       "grid_template_rows": null,
       "height": null,
       "justify_content": null,
       "justify_items": null,
       "left": null,
       "margin": null,
       "max_height": null,
       "max_width": null,
       "min_height": null,
       "min_width": null,
       "object_fit": null,
       "object_position": null,
       "order": null,
       "overflow": null,
       "overflow_x": null,
       "overflow_y": null,
       "padding": null,
       "right": null,
       "top": null,
       "visibility": null,
       "width": null
      }
     },
     "34c0a3db94d74a289ef09dbd1c09ff10": {
      "model_module": "@jupyter-widgets/controls",
      "model_module_version": "1.5.0",
      "model_name": "FloatProgressModel",
      "state": {
       "_dom_classes": [],
       "_model_module": "@jupyter-widgets/controls",
       "_model_module_version": "1.5.0",
       "_model_name": "FloatProgressModel",
       "_view_count": null,
       "_view_module": "@jupyter-widgets/controls",
       "_view_module_version": "1.5.0",
       "_view_name": "ProgressView",
       "bar_style": "success",
       "description": "",
       "description_tooltip": null,
       "layout": "IPY_MODEL_aabc0138171a41b5be98a7dbce2f824a",
       "max": 1.0,
       "min": 0.0,
       "orientation": "horizontal",
       "style": "IPY_MODEL_e1ba43d68c8743389431d19c07e034ae",
       "value": 1.0
      }
     },
     "51eda567678c4c6f9782bab4a930ac11": {
      "model_module": "@jupyter-widgets/controls",
      "model_module_version": "1.5.0",
      "model_name": "HTMLModel",
      "state": {
       "_dom_classes": [],
       "_model_module": "@jupyter-widgets/controls",
       "_model_module_version": "1.5.0",
       "_model_name": "HTMLModel",
       "_view_count": null,
       "_view_module": "@jupyter-widgets/controls",
       "_view_module_version": "1.5.0",
       "_view_name": "HTMLView",
       "description": "",
       "description_tooltip": null,
       "layout": "IPY_MODEL_84ef5a2322c84268a991597b667df93a",
       "placeholder": "​",
       "style": "IPY_MODEL_0683a4964cf74fdaba94da11cfadf7a5",
       "value": " 1/1 [00:01&lt;00:00,  1.40s/it]"
      }
     },
     "84ef5a2322c84268a991597b667df93a": {
      "model_module": "@jupyter-widgets/base",
      "model_module_version": "1.2.0",
      "model_name": "LayoutModel",
      "state": {
       "_model_module": "@jupyter-widgets/base",
       "_model_module_version": "1.2.0",
       "_model_name": "LayoutModel",
       "_view_count": null,
       "_view_module": "@jupyter-widgets/base",
       "_view_module_version": "1.2.0",
       "_view_name": "LayoutView",
       "align_content": null,
       "align_items": null,
       "align_self": null,
       "border": null,
       "bottom": null,
       "display": null,
       "flex": null,
       "flex_flow": null,
       "grid_area": null,
       "grid_auto_columns": null,
       "grid_auto_flow": null,
       "grid_auto_rows": null,
       "grid_column": null,
       "grid_gap": null,
       "grid_row": null,
       "grid_template_areas": null,
       "grid_template_columns": null,
       "grid_template_rows": null,
       "height": null,
       "justify_content": null,
       "justify_items": null,
       "left": null,
       "margin": null,
       "max_height": null,
       "max_width": null,
       "min_height": null,
       "min_width": null,
       "object_fit": null,
       "object_position": null,
       "order": null,
       "overflow": null,
       "overflow_x": null,
       "overflow_y": null,
       "padding": null,
       "right": null,
       "top": null,
       "visibility": null,
       "width": null
      }
     },
     "94c08733579b4e55a0ee5ff516073a5f": {
      "model_module": "@jupyter-widgets/base",
      "model_module_version": "1.2.0",
      "model_name": "LayoutModel",
      "state": {
       "_model_module": "@jupyter-widgets/base",
       "_model_module_version": "1.2.0",
       "_model_name": "LayoutModel",
       "_view_count": null,
       "_view_module": "@jupyter-widgets/base",
       "_view_module_version": "1.2.0",
       "_view_name": "LayoutView",
       "align_content": null,
       "align_items": null,
       "align_self": null,
       "border": null,
       "bottom": null,
       "display": null,
       "flex": null,
       "flex_flow": null,
       "grid_area": null,
       "grid_auto_columns": null,
       "grid_auto_flow": null,
       "grid_auto_rows": null,
       "grid_column": null,
       "grid_gap": null,
       "grid_row": null,
       "grid_template_areas": null,
       "grid_template_columns": null,
       "grid_template_rows": null,
       "height": null,
       "justify_content": null,
       "justify_items": null,
       "left": null,
       "margin": null,
       "max_height": null,
       "max_width": null,
       "min_height": null,
       "min_width": null,
       "object_fit": null,
       "object_position": null,
       "order": null,
       "overflow": null,
       "overflow_x": null,
       "overflow_y": null,
       "padding": null,
       "right": null,
       "top": null,
       "visibility": null,
       "width": null
      }
     },
     "aabc0138171a41b5be98a7dbce2f824a": {
      "model_module": "@jupyter-widgets/base",
      "model_module_version": "1.2.0",
      "model_name": "LayoutModel",
      "state": {
       "_model_module": "@jupyter-widgets/base",
       "_model_module_version": "1.2.0",
       "_model_name": "LayoutModel",
       "_view_count": null,
       "_view_module": "@jupyter-widgets/base",
       "_view_module_version": "1.2.0",
       "_view_name": "LayoutView",
       "align_content": null,
       "align_items": null,
       "align_self": null,
       "border": null,
       "bottom": null,
       "display": null,
       "flex": null,
       "flex_flow": null,
       "grid_area": null,
       "grid_auto_columns": null,
       "grid_auto_flow": null,
       "grid_auto_rows": null,
       "grid_column": null,
       "grid_gap": null,
       "grid_row": null,
       "grid_template_areas": null,
       "grid_template_columns": null,
       "grid_template_rows": null,
       "height": null,
       "justify_content": null,
       "justify_items": null,
       "left": null,
       "margin": null,
       "max_height": null,
       "max_width": null,
       "min_height": null,
       "min_width": null,
       "object_fit": null,
       "object_position": null,
       "order": null,
       "overflow": null,
       "overflow_x": null,
       "overflow_y": null,
       "padding": null,
       "right": null,
       "top": null,
       "visibility": null,
       "width": null
      }
     },
     "ae7aac716357432f920f696784b02d2a": {
      "model_module": "@jupyter-widgets/controls",
      "model_module_version": "1.5.0",
      "model_name": "HBoxModel",
      "state": {
       "_dom_classes": [],
       "_model_module": "@jupyter-widgets/controls",
       "_model_module_version": "1.5.0",
       "_model_name": "HBoxModel",
       "_view_count": null,
       "_view_module": "@jupyter-widgets/controls",
       "_view_module_version": "1.5.0",
       "_view_name": "HBoxView",
       "box_style": "",
       "children": [
        "IPY_MODEL_b8131e8332fb493eb7d76c2af558053e",
        "IPY_MODEL_34c0a3db94d74a289ef09dbd1c09ff10",
        "IPY_MODEL_51eda567678c4c6f9782bab4a930ac11"
       ],
       "layout": "IPY_MODEL_94c08733579b4e55a0ee5ff516073a5f"
      }
     },
     "b8131e8332fb493eb7d76c2af558053e": {
      "model_module": "@jupyter-widgets/controls",
      "model_module_version": "1.5.0",
      "model_name": "HTMLModel",
      "state": {
       "_dom_classes": [],
       "_model_module": "@jupyter-widgets/controls",
       "_model_module_version": "1.5.0",
       "_model_name": "HTMLModel",
       "_view_count": null,
       "_view_module": "@jupyter-widgets/controls",
       "_view_module_version": "1.5.0",
       "_view_name": "HTMLView",
       "description": "",
       "description_tooltip": null,
       "layout": "IPY_MODEL_2cc7296a2f444d50bc14fba8c57f8256",
       "placeholder": "​",
       "style": "IPY_MODEL_fc6a6b79b1ee4cc289613eedaf58353a",
       "value": "100%"
      }
     },
     "e1ba43d68c8743389431d19c07e034ae": {
      "model_module": "@jupyter-widgets/controls",
      "model_module_version": "1.5.0",
      "model_name": "ProgressStyleModel",
      "state": {
       "_model_module": "@jupyter-widgets/controls",
       "_model_module_version": "1.5.0",
       "_model_name": "ProgressStyleModel",
       "_view_count": null,
       "_view_module": "@jupyter-widgets/base",
       "_view_module_version": "1.2.0",
       "_view_name": "StyleView",
       "bar_color": null,
       "description_width": ""
      }
     },
     "fc6a6b79b1ee4cc289613eedaf58353a": {
      "model_module": "@jupyter-widgets/controls",
      "model_module_version": "1.5.0",
      "model_name": "DescriptionStyleModel",
      "state": {
       "_model_module": "@jupyter-widgets/controls",
       "_model_module_version": "1.5.0",
       "_model_name": "DescriptionStyleModel",
       "_view_count": null,
       "_view_module": "@jupyter-widgets/base",
       "_view_module_version": "1.2.0",
       "_view_name": "StyleView",
       "description_width": ""
      }
     }
    },
    "version_major": 2,
    "version_minor": 0
   }
  }
 },
 "nbformat": 4,
 "nbformat_minor": 5
}
